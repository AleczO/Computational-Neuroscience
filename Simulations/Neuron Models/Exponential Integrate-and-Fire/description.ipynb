{
 "cells": [
  {
   "metadata": {},
   "cell_type": "markdown",
   "source": "# Exponential Integrate-and-Fire Model",
   "id": "3b8c4ece88cf8947"
  },
  {
   "metadata": {},
   "cell_type": "markdown",
   "source": [
    "Definitions can be found in :\n",
    "- [Neuronal Dynamics](https://neuronaldynamics.epfl.ch/index.html)\n",
    "- [Modeling Neural Circuits Made Simple with Python](https://mitpress.mit.edu/9780262548083/modeling-neural-circuits-made-simple-with-python)\n"
   ],
   "id": "44894ddca4765559"
  }
 ],
 "metadata": {
  "kernelspec": {
   "display_name": "Python 3",
   "language": "python",
   "name": "python3"
  },
  "language_info": {
   "codemirror_mode": {
    "name": "ipython",
    "version": 2
   },
   "file_extension": ".py",
   "mimetype": "text/x-python",
   "name": "python",
   "nbconvert_exporter": "python",
   "pygments_lexer": "ipython2",
   "version": "2.7.6"
  }
 },
 "nbformat": 4,
 "nbformat_minor": 5
}

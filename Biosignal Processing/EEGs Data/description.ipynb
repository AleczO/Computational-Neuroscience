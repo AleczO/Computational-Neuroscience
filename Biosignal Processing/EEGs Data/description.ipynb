{
 "cells": [
  {
   "metadata": {},
   "cell_type": "markdown",
   "source": [
    "# Set 1 - Object recognition in healthy aging (ORHA)\n",
    "\n",
    "[dataset](https://openneuro.org/datasets/ds005363/versions/1.0.0) - _subject 1_ - __BrainVision format (.vhdr, .vmrk, .eeg)__ - 1/S101.\n",
    "\n"
   ],
   "id": "c0451080"
  },
  {
   "cell_type": "markdown",
   "id": "bc280e2f",
   "metadata": {},
   "source": [
    "# Set 2 - EEG Alpha Waves dataset\n",
    "\n",
    "[dataset](https://zenodo.org/records/2348892) - _subject 0_ - __matlab format (.mat)__ - 2/S0.mat\n",
    "\n",
    "procedures are listed on site "
   ]
  },
  {
   "cell_type": "markdown",
   "id": "81e65cc1",
   "metadata": {},
   "source": [
    "# Set 3 - Illusory face eeg\n",
    "\n",
    "[dataset](https://openneuro.org/datasets/ds005642/versions/1.0.1) - _subject 1_ - __BioSemi data format (.bdf)__ - 3/S01.bdf"
   ]
  },
  {
   "cell_type": "markdown",
   "id": "5fc72c1f",
   "metadata": {},
   "source": [
    "# Set 4 - EEG dataset for speech decoding\n",
    "\n",
    "[dataset](https://openneuro.org/datasets/ds005779/versions/1.0.1) - _Subject 1_ - __European Data Format (.edf)__ - 4/S1.edf"
   ]
  },
  {
   "cell_type": "markdown",
   "id": "2efaab4f",
   "metadata": {},
   "source": [
    "---\n",
    "\n",
    "## Notes\n",
    "\n",
    "_EEG files are not placed in the repository due to their large size_\n",
    "\n"
   ]
  }
 ],
 "metadata": {
  "language_info": {
   "name": "python"
  }
 },
 "nbformat": 4,
 "nbformat_minor": 5
}

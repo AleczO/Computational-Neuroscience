{
 "cells": [
  {
   "cell_type": "markdown",
   "id": "2b38647b",
   "metadata": {},
   "source": [
    "# Datasets"
   ]
  },
  {
   "cell_type": "markdown",
   "id": "0655b919",
   "metadata": {},
   "source": [
    "## General \n",
    "\n",
    "[MNE Datasets](https://mne.tools/stable/documentation/datasets.html#)\n",
    "\n",
    "[Openneuro Datasets](https://openneuro.org)"
   ]
  },
  {
   "cell_type": "markdown",
   "id": "89f78d25",
   "metadata": {},
   "source": [
    "## EEG \n",
    "\n",
    "[Github - EEG Datasets](https://github.com/meagmohit/EEG-Datasets)"
   ]
  },
  {
   "cell_type": "markdown",
   "id": "db3917c6",
   "metadata": {},
   "source": [
    "# Libraries"
   ]
  },
  {
   "cell_type": "markdown",
   "id": "a73b9901",
   "metadata": {},
   "source": [
    "[MNE](https://mne.tools/stable/index.html)"
   ]
  }
 ],
 "metadata": {
  "language_info": {
   "name": "python"
  }
 },
 "nbformat": 4,
 "nbformat_minor": 5
}

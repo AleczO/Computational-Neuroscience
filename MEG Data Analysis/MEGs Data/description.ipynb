{
 "cells": [
  {
   "cell_type": "markdown",
   "id": "c0451080",
   "metadata": {},
   "source": [
    "# The spatiotemporal neural dynamics of object recognition for natural images and line drawings - 1\n",
    "\n",
    "[dataset](https://openneuro.org/datasets/ds004330/versions/1.0.0) - _subject 1_ - _session 1_ - _run 1_ - __Neuromag (.fif)__ - 1/S101."
   ]
  },
  {
   "cell_type": "markdown",
   "id": "2efaab4f",
   "metadata": {},
   "source": [
    "---\n",
    "\n",
    "## Notes\n",
    "\n",
    "_EEG files are not found on github because of their big size_\n"
   ]
  }
 ],
 "metadata": {
  "language_info": {
   "name": "python"
  }
 },
 "nbformat": 4,
 "nbformat_minor": 5
}

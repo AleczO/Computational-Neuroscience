{
 "cells": [
  {
   "cell_type": "code",
   "execution_count": 18,
   "id": "440c7925",
   "metadata": {},
   "outputs": [],
   "source": [
    "import numpy as np\n",
    "import random"
   ]
  },
  {
   "cell_type": "markdown",
   "id": "77a9914a",
   "metadata": {},
   "source": [
    "# Basic RL Model\n",
    "\n",
    "$$ P(a_t) = \\frac{e^{[\\gamma \\cdot \\text{EV}_{a,t}]}}{\\sum_{j=1}^n e^{[\\gamma \\cdot \\text{EV}_{a,t}]}} $$\n",
    "\n",
    "\n",
    "$$ \\text{EV}_{i, t + 1} = \\text{EV}_{i, t} + \\alpha \\cdot [r(t) = \\text{EV}_{i,t}]  $$ \n"
   ]
  },
  {
   "cell_type": "code",
   "execution_count": 187,
   "id": "a9f699a3",
   "metadata": {},
   "outputs": [],
   "source": [
    "def P(EV, options, a):\n",
    "    gamma = 10\n",
    "    sumOpt = 0\n",
    "    \n",
    "    for j in options:\n",
    "        sumOpt += np.exp(gamma * EV[j])\n",
    "        \n",
    "    return np.exp(gamma * EV[a]) / sumOpt\n",
    "        \n",
    "\n",
    "def UpdateEV(EV, i, r):\n",
    "    alpha = 0.25\n",
    "    EV[i] = EV[i] + alpha * (r - EV[i]) \n",
    "    \n",
    "def rT(i):\n",
    "    if i == 0:\n",
    "        return 1\n",
    "    if i == 1:\n",
    "        return -0.5\n"
   ]
  },
  {
   "cell_type": "code",
   "execution_count": 204,
   "id": "35eb1877",
   "metadata": {},
   "outputs": [
    {
     "name": "stdout",
     "output_type": "stream",
     "text": [
      "[0, 0]\n",
      "[0.25, 0]\n",
      "[0.25, -0.125]\n",
      "[0.4375, -0.125]\n",
      "[0.578125, -0.125]\n",
      "[0.68359375, -0.125]\n",
      "[0.7626953125, -0.125]\n",
      "[0.822021484375, -0.125]\n",
      "[0.86651611328125, -0.125]\n",
      "[0.8998870849609375, -0.125]\n",
      "[0.9249153137207031, -0.125]\n",
      "\n",
      "\n",
      "0.999972\n",
      "0.000028\n"
     ]
    }
   ],
   "source": [
    "EV = [0, 0]\n",
    "\n",
    "print(EV)\n",
    "\n",
    "for i in range(10):\n",
    "    i = random.choices([0, 1], [P(EV, [0, 1], 0), P(EV, [0, 1], 1)], k=1)[0]\n",
    "    UpdateEV(EV, i, rT(i))\n",
    "    \n",
    "    print(EV)\n",
    "\n",
    "print(\"\\n\")\n",
    "    \n",
    "print('{:f}'.format(P(EV, [0, 1], 0)))\n",
    "print('{:f}'.format(P(EV, [0, 1], 1)))\n"
   ]
  },
  {
   "cell_type": "markdown",
   "id": "0fb8194a",
   "metadata": {},
   "source": [
    "## Other Implementation"
   ]
  },
  {
   "cell_type": "code",
   "execution_count": 1,
   "id": "09ffbeef",
   "metadata": {},
   "outputs": [],
   "source": [
    "def P(EV, options, a):\n",
    "    gamma = 10\n",
    "    sumOpt = 0\n",
    "    \n",
    "    for j in options:\n",
    "        sumOpt += np.exp(gamma * EV[j])\n",
    "        \n",
    "    return np.exp(gamma * EV[a]) / sumOpt\n",
    "        \n",
    "\n",
    "def UpdateEV(EV, i, r):\n",
    "    alpha = 0.25\n",
    "    EV[i] = EV[i] + alpha * (r - EV[i]) \n",
    "    \n",
    "def rT(i):\n",
    "    if i == 0:\n",
    "        return 1\n",
    "    if i == 1:\n",
    "        return -0.5"
   ]
  },
  {
   "cell_type": "code",
   "execution_count": null,
   "id": "4f6ad1f1",
   "metadata": {},
   "outputs": [],
   "source": [
    "EV = [0, 0, 0, 0, 0, 0]\n",
    "\n",
    "print(EV)\n",
    "\n",
    "for i in range(10):\n",
    "    \n",
    "    i = random.choices([0, 1], [P(EV, [0, 1], 0), P(EV, [0, 1], 1)], k=1)[0]\n",
    "    UpdateEV(EV, i, rT(i))\n",
    "    \n",
    "    print(EV)\n",
    "\n",
    "print(\"\\n\")"
   ]
  },
  {
   "cell_type": "markdown",
   "id": "7095fd6d",
   "metadata": {},
   "source": [
    "# Expected Value Update with Eligibility Trace\n",
    "\n",
    "\n",
    "$$ \\lambda_{i, t} = \\lambda_{i, t - 1} + 1 $$\n",
    "\n",
    "<br>\n",
    "\n",
    "$$ \\text{EV}_{i, t + 1} = \\text{EV}_{i, t} + \\alpha \\cdot [r(t) = \\text{EV}_{i,t}] \\cdot \\lambda_{j, t}  $$ \n",
    "\n",
    "\n",
    "<br>\n",
    "\n",
    "$$ \\lambda_{j, t + 1} = \\lambda_{j, t} \\cdot \\zeta  $$\n",
    "\n"
   ]
  }
 ],
 "metadata": {
  "kernelspec": {
   "display_name": "Python 3",
   "language": "python",
   "name": "python3"
  },
  "language_info": {
   "codemirror_mode": {
    "name": "ipython",
    "version": 3
   },
   "file_extension": ".py",
   "mimetype": "text/x-python",
   "name": "python",
   "nbconvert_exporter": "python",
   "pygments_lexer": "ipython3",
   "version": "3.12.6"
  }
 },
 "nbformat": 4,
 "nbformat_minor": 5
}

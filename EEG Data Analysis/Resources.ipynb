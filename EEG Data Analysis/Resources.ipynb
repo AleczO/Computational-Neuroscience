{
 "cells": [
  {
   "cell_type": "markdown",
   "id": "29285c65",
   "metadata": {},
   "source": [
    "[Openneuro - Datasets](https://openneuro.org)"
   ]
  },
  {
   "cell_type": "markdown",
   "id": "a73b9901",
   "metadata": {},
   "source": [
    "[MNE](https://mne.tools/stable/index.html)"
   ]
  },
  {
   "cell_type": "markdown",
   "id": "296ae791",
   "metadata": {},
   "source": [
    "[EEG Datasets](https://github.com/meagmohit/EEG-Datasets)"
   ]
  }
 ],
 "metadata": {
  "language_info": {
   "name": "python"
  }
 },
 "nbformat": 4,
 "nbformat_minor": 5
}

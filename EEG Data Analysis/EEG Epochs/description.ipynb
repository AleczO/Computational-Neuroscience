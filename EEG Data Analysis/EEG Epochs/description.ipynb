{
 "cells": [
  {
   "cell_type": "markdown",
   "id": "fa76d987",
   "metadata": {},
   "source": [
    "## Resources\n",
    "\n",
    "[Epochs - Description](https://mne.tools/stable/documentation/glossary.html#term-epochs)\n",
    "\n",
    "[Epochs - Data Structure](https://mne.tools/stable/auto_tutorials/epochs/10_epochs_overview.html)\n",
    "\n"
   ]
  },
  {
   "cell_type": "markdown",
   "id": "137a595c",
   "metadata": {},
   "source": [
    "# Dataset Used\n",
    "\n",
    "[illusory-face-eeg](https://openneuro.org/datasets/ds005642/versions/1.0.1) - __sub-01__ - BioSemi data format (.bdf)"
   ]
  }
 ],
 "metadata": {
  "language_info": {
   "name": "python"
  }
 },
 "nbformat": 4,
 "nbformat_minor": 5
}

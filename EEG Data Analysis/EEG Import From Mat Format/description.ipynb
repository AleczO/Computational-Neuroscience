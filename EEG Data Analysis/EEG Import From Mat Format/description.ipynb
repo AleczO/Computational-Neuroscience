{
 "cells": [
  {
   "cell_type": "markdown",
   "id": "d9e0d99d",
   "metadata": {},
   "source": [
    "# Data Used\n",
    "\n",
    "[EEG Alpha Waves dataset](https://zenodo.org/records/2348892) - __Subject 0__ - __.mat format__\n",
    "\n",
    "Procedures used are listed on site "
   ]
  }
 ],
 "metadata": {
  "language_info": {
   "name": "python"
  }
 },
 "nbformat": 4,
 "nbformat_minor": 5
}

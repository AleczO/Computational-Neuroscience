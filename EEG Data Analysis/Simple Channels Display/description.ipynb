{
 "cells": [
  {
   "cell_type": "markdown",
   "id": "8baa4b5c",
   "metadata": {},
   "source": [
    "## Data Used\n",
    "\n",
    "[EEG dataset for speech decoding](https://openneuro.org/datasets/ds005779/versions/1.0.1) - __Person 1__ - European Data Format (EDF)"
   ]
  }
 ],
 "metadata": {
  "language_info": {
   "name": "python"
  }
 },
 "nbformat": 4,
 "nbformat_minor": 5
}

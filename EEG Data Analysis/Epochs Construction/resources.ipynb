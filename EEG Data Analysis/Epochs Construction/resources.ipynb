{
 "cells": [
  {
   "cell_type": "markdown",
   "id": "fa76d987",
   "metadata": {},
   "source": [
    "## Resources\n",
    "\n",
    "[Epochs - Description](https://mne.tools/stable/documentation/glossary.html#term-epochs)\n",
    "\n",
    "[Epochs - Data Structure](https://mne.tools/stable/auto_tutorials/epochs/10_epochs_overview.html)\n",
    "\n"
   ]
  }
 ],
 "metadata": {
  "language_info": {
   "name": "python"
  }
 },
 "nbformat": 4,
 "nbformat_minor": 5
}
